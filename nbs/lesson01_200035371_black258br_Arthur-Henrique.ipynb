{
 "cells": [
  {
   "cell_type": "markdown",
   "id": "b90f43fa-01bc-43d1-af83-bbbc40bcd4bb",
   "metadata": {},
   "source": [
    "# Algoritmo de identificação entre carro e moto\n",
    "\n",
    "## Objetivo\n",
    "Esse notebook tem por objetivo demonstrar a implementação de um algoritmo de machine learning capaz de diferenciar entre carros e motos\n",
    "\n",
    "## Procedimento\n",
    "### Etapa 1: Instalação dos pré-requisitos\n",
    "Rode os seguintes comandos de instalação de pacotes no terminal linux"
   ]
  },
  {
   "cell_type": "code",
   "execution_count": null,
   "id": "4003b9e6-1055-4e4c-9962-640ae4de4c4d",
   "metadata": {},
   "outputs": [],
   "source": [
    "!pip install -Uqq fastai\n",
    "!pip install -Uqq duckduckgo_search"
   ]
  },
  {
   "cell_type": "markdown",
   "id": "45eaede4-23d5-45c5-9c4b-28580cc26375",
   "metadata": {},
   "source": [
    "Agora, importaremos os metodos necessários para o funcionamento"
   ]
  },
  {
   "cell_type": "code",
   "execution_count": null,
   "id": "b66ba0f5-f0de-4b8d-a5fa-05126b46f110",
   "metadata": {},
   "outputs": [],
   "source": [
    "from duckduckgo_search import ddg_images\n",
    "from fastcore.all import *\n",
    "\n",
    "def search_images(term, max_images=200): return L(ddg_images(term, max_results=max_images)).itemgot('image')"
   ]
  },
  {
   "cell_type": "markdown",
   "id": "c5fde06c-91e5-4e7a-92d7-268a3b6aa285",
   "metadata": {},
   "source": [
    "### Etapa 2: Download das imagens iniciais\n",
    "Realizaremos agora o download de uma unica imagem referente a um carro e uma moto"
   ]
  },
  {
   "cell_type": "code",
   "execution_count": null,
   "id": "3dc7956f-a778-4fec-acee-03aab555b40a",
   "metadata": {},
   "outputs": [],
   "source": [
    "from fastdownload import download_url\n",
    "dest = 'car.jpg'\n",
    "download_url(urls[0], dest, show_progress=True)\n",
    "\n",
    "from fastai.vision.all import *\n",
    "im = Image.open(dest)\n",
    "im.to_thumb(256,256)"
   ]
  },
  {
   "cell_type": "code",
   "execution_count": null,
   "id": "75e0367b-098c-43dd-945e-cf041ee88139",
   "metadata": {},
   "outputs": [],
   "source": []
  },
  {
   "cell_type": "code",
   "execution_count": null,
   "id": "ad769b74-b327-485b-8f50-3917953cfa79",
   "metadata": {},
   "outputs": [],
   "source": []
  }
 ],
 "metadata": {
  "kernelspec": {
   "display_name": "Python 3 (ipykernel)",
   "language": "python",
   "name": "python3"
  },
  "language_info": {
   "codemirror_mode": {
    "name": "ipython",
    "version": 3
   },
   "file_extension": ".py",
   "mimetype": "text/x-python",
   "name": "python",
   "nbconvert_exporter": "python",
   "pygments_lexer": "ipython3",
   "version": "3.10.12"
  },
  "widgets": {
   "application/vnd.jupyter.widget-state+json": {
    "state": {},
    "version_major": 2,
    "version_minor": 0
   }
  }
 },
 "nbformat": 4,
 "nbformat_minor": 5
}
